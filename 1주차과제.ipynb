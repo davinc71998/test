{
  "nbformat": 4,
  "nbformat_minor": 0,
  "metadata": {
    "colab": {
      "name": "1주차과제",
      "provenance": [],
      "collapsed_sections": [],
      "authorship_tag": "ABX9TyMKJleCKVButd7cOJ06Nqq7",
      "include_colab_link": true
    },
    "kernelspec": {
      "name": "python3",
      "display_name": "Python 3"
    }
  },
  "cells": [
    {
      "cell_type": "markdown",
      "metadata": {
        "id": "view-in-github",
        "colab_type": "text"
      },
      "source": [
        "<a href=\"https://colab.research.google.com/github/davinc71998/test/blob/master/1%EC%A3%BC%EC%B0%A8%EA%B3%BC%EC%A0%9C.ipynb\" target=\"_parent\"><img src=\"https://colab.research.google.com/assets/colab-badge.svg\" alt=\"Open In Colab\"/></a>"
      ]
    },
    {
      "cell_type": "markdown",
      "metadata": {
        "id": "shP-Gk6TijF_",
        "colab_type": "text"
      },
      "source": [
        "# 인공지능 사례분석\n",
        "\n",
        "\n",
        "1.   언어\n",
        "2.   음성\n",
        "3.   이미지\n",
        "4.   자율운행\n",
        "\n"
      ]
    },
    {
      "cell_type": "markdown",
      "metadata": {
        "id": "vq9Mp12cio0Y",
        "colab_type": "text"
      },
      "source": [
        "# 언어 - 카카오 khaii\n",
        "카카오의 형태소 분석기 khaiii는 딥러닝을 통해 학습한 데이터를 활용해 형태소를 분석하는 모델이다. 딥러닝 기술 중 하나인 콘볼루션 네트워크(CNN, Convolutional Neural Network) 기술을 이용해 음절기반으로 형태소를 분석하는 방법을 채택했다. 카카오는 국립국어원에서 배포한 데이터인 세종 코퍼스를 기반으로 데이터의 오류를 수정하고 카카오에서 자체 구축한 데이터를 추가해 85만 문장, 1천3만 어절의 데이터를 학습하여 정확도를 높였다. 또, 딥러닝 과정에서 C++ 언어를 적용해, 일반적으로 딥러닝에 쓰이는 GPU(그래픽처리장치)를 사용하지 않고도 빠른 분석 속도를 구현했다.\n",
        "\n",
        "\n",
        "출처 : http://www.aitimes.kr/news/articleView.html?idxno=12961"
      ]
    },
    {
      "cell_type": "markdown",
      "metadata": {
        "id": "WKPT3q9qUGEI",
        "colab_type": "text"
      },
      "source": [
        "# 음성 - 카카오 AI 스피커\n",
        "카카오의 경우 카카오미니라는 이름으로 인공지능 스피커를 선보였다. 와이파이를 통해 인터넷에 접속하면 음성명령으로 멜론 음악 듣기, 카카오톡 메시지 보내기, 카카오 택시 호출하기, 다음 뉴스 듣기 등 다양한 생활밀착형 서비스를 이용할 수 있는 제품이다.또한 카카오미니C는 인공지능 음성비서로 사용자의 다양한 질문에 대한 답도 척척 내준다. 오늘의 날씨, 버스 도착 시간, 마트와 백화점의 영업시간과 휴무일, TV 및 스포츠 중계 일정, 오늘의 주요 뉴스, 실시간 이슈, 주가 상황, 전 세계 시간, 간단한 계산 등을 음성으로 물어보고 답을 들을 수 있다\n",
        "\n",
        "\n",
        "출처 : https://it.donga.com/28306/"
      ]
    },
    {
      "cell_type": "markdown",
      "metadata": {
        "id": "3u0xQscjUILM",
        "colab_type": "text"
      },
      "source": [
        "# 이미지 - 루닛 인사이트 CXR2\n",
        "루닛 인사이트 CXR 2는 지난해 허가받은 폐 결절 검출 제품(Lunit INSIGHT CXR)의 업그레이드 버전이다. 루닛의 독자적인 인공지능 기술을 바탕으로 환자의 흉부 엑스레이 사진을 분석해 폐 결절, 폐 경화, 기흉 등의 3가지 주요 폐 비정상 소견을 97~99%의 정확도로 검출할 수 있다는 설명이다. 의사 판독을 보조하는 목적으로 각 질환 의심 부위와 정도를 색상으로 표기해 빠르고 정확한 진단을 돕는다.\n",
        "\n",
        "\n",
        "출처 : https://jhealthmedia.joins.com/article/article_view.asp?pno=21556\n",
        "\n",
        "\n"
      ]
    },
    {
      "cell_type": "markdown",
      "metadata": {
        "id": "MdFDucLIUH0E",
        "colab_type": "text"
      },
      "source": [
        "# 자율운행 - 테슬라 오토파일럿\n",
        "테슬라의 자율주행 기술은 ‘오토 파일럿’으로 불린다. 운전자의 조작 없이도 교통 상황에 맞게 속도를 조절하고 차선과 앞뒤 간격을 유지할 수 있다. 목적지를 설정해두면 알아서 스스로 간선도로를 빠져나가고, 방향지시등을 켜면 주변을 감지한 뒤 차선을 변경할수 있다.\n",
        "일반적으로는 먼저 자동차 위에 라이다를 올려 라이다를 통해 주변 환경에 대한 사전 지도(Pre-map)을 구현. 그런 다음 주행을 하며 이 맵을 로컬화시켜 자율주행의 정확도를 높이는 비전 중심의 접근 방식과 스탑 사인이 나무에 가려 잘 보이지 않는 등 흔치 않은 상황인 롱 테일이 발생할 경우, 자율주행 신경망에서 각 차량에게 이와 비슷한 이미지들을 데이터 센터로 보낼 것을 명령. 그러면 차량들로부터 받은 롱 테일 이미지들을 다시 라벨링(Labeling)하고 새로 신경망을 훈련시켜 오토파일럿 기능을 향상 시켰다.\n",
        "\n",
        "\n",
        "\n",
        "\n",
        "\n",
        "\n",
        "출처 : http://news.kmib.co.kr/article/view.asp?arcid=0014671588&code=61172011&cp=nv\n",
        "https://blog.naver.com/shakey7/221932482700"
      ]
    }
  ]
}